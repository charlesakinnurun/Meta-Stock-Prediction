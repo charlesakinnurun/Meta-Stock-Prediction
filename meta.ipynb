{
 "cells": [
  {
   "cell_type": "markdown",
   "id": "add54536",
   "metadata": {},
   "source": [
    "Import the neccessary libraries"
   ]
  },
  {
   "cell_type": "code",
   "execution_count": 84,
   "id": "41077ec5",
   "metadata": {},
   "outputs": [],
   "source": [
    "import pandas as pd\n",
    "import numpy as np\n",
    "from sklearn.model_selection import train_test_split\n",
    "from sklearn.linear_model import LinearRegression\n",
    "from sklearn.metrics import mean_squared_error,r2_score\n",
    "import matplotlib.pyplot as plt"
   ]
  },
  {
   "cell_type": "markdown",
   "id": "1503755b",
   "metadata": {},
   "source": [
    "Data Loading"
   ]
  },
  {
   "cell_type": "code",
   "execution_count": 85,
   "id": "6cb166a6",
   "metadata": {},
   "outputs": [
    {
     "name": "stdout",
     "output_type": "stream",
     "text": [
      "Data loaded successfully!\n",
      "\n",
      "First 5 rows of the dataset:\n",
      "         Date       Open       High        Low      Close  Adj Close     Volume\n",
      "0  2012-05-18  42.049999  45.000000  38.000000  38.230000  38.230000  573576400\n",
      "1  2012-05-21  36.529999  36.660000  33.000000  34.029999  34.029999  168192700\n",
      "2  2012-05-22  32.610001  33.590000  30.940001  31.000000  31.000000  101786600\n",
      "3  2012-05-23  31.370001  32.500000  31.360001  32.000000  32.000000   73600000\n",
      "4  2012-05-24  32.950001  33.209999  31.770000  33.029999  33.029999   50237200\n"
     ]
    }
   ],
   "source": [
    "try:\n",
    "    df = pd.read_csv('meta.csv')\n",
    "    print(\"Data loaded successfully!\")\n",
    "    print(\"\\nFirst 5 rows of the dataset:\")\n",
    "    print(df.head().to_string())\n",
    "except FileNotFoundError:\n",
    "    print(\"Error: The file 'meta.csv' was not found. Please make sure it is in the same directory as the script.\")\n",
    "    exit()"
   ]
  },
  {
   "cell_type": "markdown",
   "id": "c8eacb05",
   "metadata": {},
   "source": [
    "Data preprocessing and Feature Engineering"
   ]
  },
  {
   "cell_type": "code",
   "execution_count": 86,
   "id": "5f569b49",
   "metadata": {},
   "outputs": [
    {
     "name": "stdout",
     "output_type": "stream",
     "text": [
      "<class 'pandas.core.frame.DataFrame'>\n",
      "RangeIndex: 2906 entries, 0 to 2905\n",
      "Data columns (total 7 columns):\n",
      " #   Column     Non-Null Count  Dtype  \n",
      "---  ------     --------------  -----  \n",
      " 0   Date       2906 non-null   object \n",
      " 1   Open       2906 non-null   float64\n",
      " 2   High       2906 non-null   float64\n",
      " 3   Low        2906 non-null   float64\n",
      " 4   Close      2906 non-null   float64\n",
      " 5   Adj Close  2906 non-null   float64\n",
      " 6   Volume     2906 non-null   int64  \n",
      "dtypes: float64(5), int64(1), object(1)\n",
      "memory usage: 159.1+ KB\n",
      "None\n",
      "Date         0\n",
      "Open         0\n",
      "High         0\n",
      "Low          0\n",
      "Close        0\n",
      "Adj Close    0\n",
      "Volume       0\n",
      "dtype: int64\n",
      "0\n",
      "         date       open       high        low      close  adj_close     volume\n",
      "0  2012-05-18  42.049999  45.000000  38.000000  38.230000  38.230000  573576400\n",
      "1  2012-05-21  36.529999  36.660000  33.000000  34.029999  34.029999  168192700\n",
      "2  2012-05-22  32.610001  33.590000  30.940001  31.000000  31.000000  101786600\n",
      "3  2012-05-23  31.370001  32.500000  31.360001  32.000000  32.000000   73600000\n",
      "4  2012-05-24  32.950001  33.209999  31.770000  33.029999  33.029999   50237200\n",
      "<class 'pandas.core.frame.DataFrame'>\n",
      "RangeIndex: 2906 entries, 0 to 2905\n",
      "Data columns (total 7 columns):\n",
      " #   Column     Non-Null Count  Dtype  \n",
      "---  ------     --------------  -----  \n",
      " 0   date       2906 non-null   object \n",
      " 1   open       2906 non-null   float64\n",
      " 2   high       2906 non-null   float64\n",
      " 3   low        2906 non-null   float64\n",
      " 4   close      2906 non-null   float64\n",
      " 5   adj_close  2906 non-null   float64\n",
      " 6   volume     2906 non-null   int64  \n",
      "dtypes: float64(5), int64(1), object(1)\n",
      "memory usage: 159.1+ KB\n",
      "None\n",
      "Shape of features (X): (2906, 5)\n",
      "Shape of target (y): (2906,)\n"
     ]
    }
   ],
   "source": [
    "print(df.info())\n",
    "\n",
    "# Check for missing values\n",
    "df_missing = df.isnull().sum()\n",
    "print(df_missing)\n",
    "\n",
    "# Check for duplicates\n",
    "df_duplicates = df.duplicated().sum()\n",
    "print(df_duplicates)\n",
    "\n",
    "# Rename the column for clarity and consistency\n",
    "df.rename(columns={\n",
    "    \"Date\":\"date\",\n",
    "    \"Open\":\"open\",\n",
    "    \"High\":\"high\",\n",
    "    \"Low\":\"low\",\n",
    "    \"Close\":\"close\",\n",
    "    \"Adj Close\":\"adj_close\",\n",
    "    \"Volume\":\"volume\"\n",
    "},inplace=True)\n",
    "\n",
    "# Display the first first row and information\n",
    "print(df.head().to_string())\n",
    "print(df.info())\n",
    "\n",
    "# We will create a new feature called \"average_price\" which is the \"open\", \"high\" and \"low\" prices\n",
    "# This new feature might have a strong relationship with the \"close\" price\n",
    "df[\"average_price\"] = (df[\"open\"] + df[\"high\"] + df[\"low\"]) / 3\n",
    "\n",
    "# We need to select the columns that will be our features (X) and our target (y)\n",
    "# The target variable is what we want to predict, which is \"close\" price\n",
    "# The features are the input variables the model will use to make predictions\n",
    "features = [\"open\",\"high\",\"low\",\"volume\",\"average_price\"]\n",
    "target = \"close\"\n",
    "X = df[features]\n",
    "y = df[target]\n",
    "\n",
    "print(\"Shape of features (X):\",X.shape)\n",
    "print(\"Shape of target (y):\",y.shape)"
   ]
  },
  {
   "cell_type": "markdown",
   "id": "a686c003",
   "metadata": {},
   "source": [
    "Data Splitting"
   ]
  }
 ],
 "metadata": {
  "kernelspec": {
   "display_name": "Python 3",
   "language": "python",
   "name": "python3"
  },
  "language_info": {
   "codemirror_mode": {
    "name": "ipython",
    "version": 3
   },
   "file_extension": ".py",
   "mimetype": "text/x-python",
   "name": "python",
   "nbconvert_exporter": "python",
   "pygments_lexer": "ipython3",
   "version": "3.13.3"
  }
 },
 "nbformat": 4,
 "nbformat_minor": 5
}
